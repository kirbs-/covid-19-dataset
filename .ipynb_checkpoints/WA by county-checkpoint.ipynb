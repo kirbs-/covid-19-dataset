{
 "cells": [
  {
   "cell_type": "markdown",
   "metadata": {},
   "source": [
    "Washington updates daily at 3pm PDT"
   ]
  },
  {
   "cell_type": "code",
   "execution_count": 2,
   "metadata": {},
   "outputs": [],
   "source": [
    "from selenium import webdriver\n",
    "import time\n",
    "import pandas as pd\n",
    "import pendulum\n",
    "import re\n",
    "import time\n",
    "from selenium.webdriver.chrome.options import Options\n",
    "chrome_options = Options()\n",
    "#chrome_options.add_argument(\"--disable-extensions\")\n",
    "#chrome_options.add_argument(\"--disable-gpu\")\n",
    "#chrome_options.add_argument(\"--no-sandbox) # linux only\n",
    "chrome_options.add_argument(\"--start-maximized\")\n",
    "# chrome_options.add_argument(\"--headless\")\n",
    "chrome_options.add_argument(\"user-agent=[Mozilla/5.0 (Macintosh; Intel Mac OS X 10.14; rv:73.0) Gecko/20100101 Firefox/73.0]\")"
   ]
  },
  {
   "cell_type": "code",
   "execution_count": 3,
   "metadata": {},
   "outputs": [],
   "source": [
    "scrape_timestamp = pendulum.now().strftime('%Y%m%d%H%M%S')"
   ]
  },
  {
   "cell_type": "code",
   "execution_count": 4,
   "metadata": {},
   "outputs": [],
   "source": [
    "driver = webdriver.Chrome('../20190611 - Parts recommendation/chromedriver', options=chrome_options)"
   ]
  },
  {
   "cell_type": "code",
   "execution_count": 5,
   "metadata": {},
   "outputs": [],
   "source": [
    "url = 'https://www.doh.wa.gov/Emergencies/Coronavirus'"
   ]
  },
  {
   "cell_type": "code",
   "execution_count": 6,
   "metadata": {},
   "outputs": [],
   "source": [
    "driver.get(url)"
   ]
  },
  {
   "cell_type": "code",
   "execution_count": 10,
   "metadata": {},
   "outputs": [],
   "source": [
    "datatbl = driver.find_element_by_id('dnn_ctr33855_HtmlModule_lblContent').find_element_by_css_selector('table')"
   ]
  },
  {
   "cell_type": "code",
   "execution_count": 11,
   "metadata": {},
   "outputs": [
    {
     "data": {
      "text/plain": [
       "'Number of Individuals Tested\\nCounty Positive/Confirmed Cases Deaths\\nBenton 7 2\\nChelan 3 0\\nClallam 2 0\\nClark 9 3\\nColumbia 1 0\\nCowlitz 2 0\\nFranklin 2 0\\nGrant 11 1\\nGrays Harbor 1 0\\nIsland 19 1\\nJefferson 4 0\\nKing 934 74\\nKitsap 15 0\\nKittitas 4 0\\nKlickitat 4 0\\nLewis 2 0\\nLincoln 1 0\\nMason 1 0\\nPierce 95 1\\nSan Juan 1 0\\nSkagit 28 0\\nSnohomish 447 10\\nSpokane 16 0\\nStevens 1 0\\nThurston 9 0\\nWhatcom 14 2\\nYakima 13 0\\nUnassigned 147  \\nTotal 1793 94'"
      ]
     },
     "execution_count": 11,
     "metadata": {},
     "output_type": "execute_result"
    }
   ],
   "source": [
    "datatbl.text"
   ]
  },
  {
   "cell_type": "code",
   "execution_count": 50,
   "metadata": {},
   "outputs": [],
   "source": [
    "driver.execute_script(\"arguments[0].scrollIntoView(true);\", driver.find_element_by_id('show-all-counties'))\n",
    "time.sleep(1)\n",
    "driver.execute_script(\"window.scrollBy(0, -500);\", driver.find_element_by_id('show-all-counties'))"
   ]
  },
  {
   "cell_type": "code",
   "execution_count": 51,
   "metadata": {},
   "outputs": [],
   "source": [
    "driver.find_element_by_id('show-all-counties').click()"
   ]
  },
  {
   "cell_type": "code",
   "execution_count": 18,
   "metadata": {},
   "outputs": [],
   "source": [
    "data = []\n",
    "for row in datatbl.find_elements_by_css_selector('tr'):\n",
    "#     row_data = [row.find_element_by_css_selector('th').text]\n",
    "    data.append([cell.text for cell in row.find_elements_by_css_selector('td')])"
   ]
  },
  {
   "cell_type": "code",
   "execution_count": 19,
   "metadata": {},
   "outputs": [
    {
     "data": {
      "text/plain": [
       "[[],\n",
       " ['Benton', '7', '2'],\n",
       " ['Chelan', '3', '0'],\n",
       " ['Clallam', '2', '0'],\n",
       " ['Clark', '9', '3'],\n",
       " ['Columbia', '1', '0'],\n",
       " ['Cowlitz', '2', '0'],\n",
       " ['Franklin', '2', '0'],\n",
       " ['Grant', '11', '1'],\n",
       " ['Grays Harbor', '1', '0'],\n",
       " ['Island', '19', '1'],\n",
       " ['Jefferson', '4', '0'],\n",
       " ['King', '934', '74'],\n",
       " ['Kitsap', '15', '0'],\n",
       " ['Kittitas', '4', '0'],\n",
       " ['Klickitat', '4', '0'],\n",
       " ['Lewis', '2', '0'],\n",
       " ['Lincoln', '1', '0'],\n",
       " ['Mason', '1', '0'],\n",
       " ['Pierce', '95', '1'],\n",
       " ['San Juan', '1', '0'],\n",
       " ['Skagit', '28', '0'],\n",
       " ['Snohomish', '447', '10'],\n",
       " ['Spokane', '16', '0'],\n",
       " ['Stevens', '1', '0'],\n",
       " ['Thurston', '9', '0'],\n",
       " ['Whatcom', '14', '2'],\n",
       " ['Yakima', '13', '0'],\n",
       " ['Unassigned', '147', ' '],\n",
       " ['Total', '1793', '94']]"
      ]
     },
     "execution_count": 19,
     "metadata": {},
     "output_type": "execute_result"
    }
   ],
   "source": [
    "data"
   ]
  },
  {
   "cell_type": "code",
   "execution_count": 20,
   "metadata": {},
   "outputs": [],
   "source": [
    "df = pd.DataFrame(data, columns=['county','positive_cases','deaths'])"
   ]
  },
  {
   "cell_type": "code",
   "execution_count": 22,
   "metadata": {},
   "outputs": [],
   "source": [
    "df.to_csv('data/WA_county_{}.txt'.format(scrape_timestamp), sep='|', index=False)"
   ]
  },
  {
   "cell_type": "code",
   "execution_count": 23,
   "metadata": {},
   "outputs": [],
   "source": [
    "with open('source_page_backup/WA_county_{}.html'.format(scrape_timestamp), 'w') as f:\n",
    "    f.write(driver.page_source)"
   ]
  },
  {
   "cell_type": "code",
   "execution_count": null,
   "metadata": {},
   "outputs": [],
   "source": []
  }
 ],
 "metadata": {
  "kernelspec": {
   "display_name": "Python 3",
   "language": "python",
   "name": "python3"
  },
  "language_info": {
   "codemirror_mode": {
    "name": "ipython",
    "version": 3
   },
   "file_extension": ".py",
   "mimetype": "text/x-python",
   "name": "python",
   "nbconvert_exporter": "python",
   "pygments_lexer": "ipython3",
   "version": "3.7.2"
  }
 },
 "nbformat": 4,
 "nbformat_minor": 2
}
