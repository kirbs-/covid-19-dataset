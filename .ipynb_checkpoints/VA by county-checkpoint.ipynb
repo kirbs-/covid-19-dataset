{
 "cells": [
  {
   "cell_type": "markdown",
   "metadata": {},
   "source": [
    "Virginia updates at noon EDT daily."
   ]
  },
  {
   "cell_type": "code",
   "execution_count": 8,
   "metadata": {},
   "outputs": [],
   "source": [
    "from selenium import webdriver\n",
    "import time\n",
    "import pandas as pd\n",
    "import pendulum\n",
    "import re\n",
    "import cv2\n",
    "import yaml\n",
    "from selenium.webdriver.chrome.options import Options\n",
    "chrome_options = Options()\n",
    "#chrome_options.add_argument(\"--disable-extensions\")\n",
    "#chrome_options.add_argument(\"--disable-gpu\")\n",
    "#chrome_options.add_argument(\"--no-sandbox) # linux only\n",
    "chrome_options.add_argument(\"--start-maximized\")\n",
    "# chrome_options.add_argument(\"--headless\")\n",
    "chrome_options.add_argument(\"user-agent=[Mozilla/5.0 (Macintosh; Intel Mac OS X 10.14; rv:73.0) Gecko/20100101 Firefox/73.0]\")"
   ]
  },
  {
   "cell_type": "code",
   "execution_count": 9,
   "metadata": {},
   "outputs": [],
   "source": [
    "from PIL import Image\n",
    "from pytesseract import image_to_string, image_to_data, image_to_pdf_or_hocr\n",
    "import base64"
   ]
  },
  {
   "cell_type": "code",
   "execution_count": 10,
   "metadata": {},
   "outputs": [],
   "source": [
    "def save_tb_image(driver, canvas, filename):\n",
    "    \"\"\"get the canvas as a PNG base64 string\"\"\"\n",
    "    canvas_base64 = driver.execute_script(\"return arguments[0].toDataURL('image/png').substring(21);\", canvas)\n",
    "\n",
    "    # decode\n",
    "    canvas_png = base64.b64decode(canvas_base64)\n",
    "\n",
    "    # save to a file\n",
    "    with open(f\"{filename}_{scrape_timestamp}.png\", 'wb') as f:\n",
    "        f.write(canvas_png)"
   ]
  },
  {
   "cell_type": "code",
   "execution_count": 11,
   "metadata": {},
   "outputs": [],
   "source": [
    "snip = \"\"\"/* global arguments */\n",
    "(function (element, deltaY, offsetX, offsetY) {\n",
    "    var box = element.getBoundingClientRect();\n",
    "    var clientX = box.left + (offsetX || box.width / 2);\n",
    "    var clientY = box.top + (offsetY || box.height / 2);\n",
    "    var target = element.ownerDocument.elementFromPoint(clientX, clientY);\n",
    "\n",
    "    for (var e = target; e; e = e.parentElement) {\n",
    "        if (e === element) {\n",
    "            target.dispatchEvent(new MouseEvent(\"mouseover\", {\n",
    "                view: window,\n",
    "                bubbles: true,\n",
    "                cancelable: true,\n",
    "                clientX: clientX,\n",
    "                clientY: clientY\n",
    "            }));\n",
    "            target.dispatchEvent(new MouseEvent(\"mousemove\", {\n",
    "                view: window,\n",
    "                bubbles: true,\n",
    "                cancelable: true,\n",
    "                clientX: clientX,\n",
    "                clientY: clientY\n",
    "            }));\n",
    "            target.dispatchEvent(new WheelEvent(\"wheel\", {\n",
    "                view: window,\n",
    "                bubbles: true,\n",
    "                cancelable: true,\n",
    "                clientX: clientX,\n",
    "                clientY: clientY,\n",
    "                deltaY: deltaY\n",
    "            }));\n",
    "            return \"\";\n",
    "        }\n",
    "    }\n",
    "    return \"Element is not interactable\";\n",
    "}).apply(null, arguments);\n",
    "\"\"\""
   ]
  },
  {
   "cell_type": "code",
   "execution_count": 12,
   "metadata": {},
   "outputs": [],
   "source": [
    "def simulate_wheel(element, deltaY=120, offsetX=0, offsetY=0):\n",
    "    \"\"\"Helper to simulate a mouse wheel scroll.\"\"\"\n",
    "    error = element._parent.execute_script(snip, element, deltaY, offsetX, offsetY)\n",
    "    if error:\n",
    "        raise WebDriverException(error)"
   ]
  },
  {
   "cell_type": "code",
   "execution_count": 13,
   "metadata": {},
   "outputs": [],
   "source": [
    "with open('config.yaml', 'r') as f:\n",
    "    config = yaml.safe_load(f.read())"
   ]
  },
  {
   "cell_type": "code",
   "execution_count": 14,
   "metadata": {},
   "outputs": [],
   "source": [
    "state = 'VA'"
   ]
  },
  {
   "cell_type": "code",
   "execution_count": 15,
   "metadata": {},
   "outputs": [],
   "source": [
    "scrape_timestamp = pendulum.now().strftime('%Y%m%d%H%M%S')"
   ]
  },
  {
   "cell_type": "code",
   "execution_count": 16,
   "metadata": {},
   "outputs": [],
   "source": [
    "# url = 'http://www.vdh.virginia.gov/coronavirus/'\n",
    "# url = 'https://public.tableau.com/views/VirginiaCOVID-19Dashboard/VirginiaCOVID-19Dashboard?%3Aembed=y&%3AshowVizHome=no&%3Adisplay_count=y&%3Adisplay_static_image=y&%3AbootstrapWhenNotified=true'\n",
    "url = 'https://public.tableau.com/views/VirginiaCOVID-19Dashboard/VirginiaCOVID-19Dashboard?%3Aembed=y&%3AshowVizHome=no&%3Adisplay_count=y&%3Adisplay_static_image=y&%3Adevice=desktop'"
   ]
  },
  {
   "cell_type": "code",
   "execution_count": 40,
   "metadata": {},
   "outputs": [],
   "source": [
    "def fetch():\n",
    "    driver = webdriver.Chrome('../20190611 - Parts recommendation/chromedriver', options=chrome_options)\n",
    "\n",
    "    driver.get(url)\n",
    "\n",
    "    # Virginia uses Tableau iframe for data\n",
    "    tbl = driver.find_element_by_id(\"main-content\")\n",
    "    time.sleep(5)\n",
    "\n",
    "    # grab the table with county level cases\n",
    "    datatbl = tbl.find_element_by_id('tabZoneId115')\n",
    "\n",
    "    # scroll data table into view\n",
    "    driver.execute_script(\"arguments[0].scrollIntoView(true);\", datatbl)\n",
    "\n",
    "    # Virginia uses a public Tableau dashboard to report total cases. Need to grab the data table's canvas element and OCR.\n",
    "\n",
    "    # control how many mouse wheel scrolls to perform.\n",
    "    scroll_cnt = 4\n",
    "\n",
    "    for i in range(scroll_cnt):\n",
    "        # grab all canvas elements\n",
    "        canvases = datatbl.find_elements_by_css_selector('canvas')\n",
    "\n",
    "        # save image\n",
    "        for idx, canvas in enumerate(canvases):\n",
    "            save_tb_image(driver, canvas, f\"{config['data_source_backup_folder']}/{state}_county_{i}_{idx}\")\n",
    "\n",
    "        # scroll canvas down\n",
    "        simulate_wheel(canvases[1], 500)\n",
    "        time.sleep(3)\n",
    "\n",
    "    driver.close()\n",
    "        \n",
    "    # Join images together so data table OCR works properly\n",
    "    for i in range(scroll_cnt):\n",
    "        im1 = cv2.imread(f\"{config['data_source_backup_folder']}/{state}_county_{i}_1_{scrape_timestamp}.png\")\n",
    "        im2 = cv2.imread(f\"{config['data_source_backup_folder']}/{state}_county_{i}_2_{scrape_timestamp}.png\")\n",
    "        im_h = cv2.hconcat([im1[:, 300:,:], im2[:,400:600,:]]) # trimming down the width of the positive cases so teseract works better\n",
    "        cv2.imwrite(f\"{config['data_source_backup_folder']}/{state}_county_{i}_{scrape_timestamp}_final.png\", im_h)\n",
    "\n",
    "    # OCR combined image. \n",
    "    data = []\n",
    "    for i in range(scroll_cnt):\n",
    "        tmp = image_to_string(f\"{config['data_source_backup_folder']}/{state}_county_{i}_{scrape_timestamp}_final.png\", config='--psm 6').split('\\n')\n",
    "        data += [re.search('(.*) (\\d*)$', row).groups() for row in tmp]\n",
    "        \n",
    "    return pd.DataFrame(set(data), columns=['county', 'positive_cases'])"
   ]
  },
  {
   "cell_type": "code",
   "execution_count": 1,
   "metadata": {},
   "outputs": [],
   "source": [
    "def save(df):\n",
    "    df.to_csv(f\"{config['data_folder']}/{state}_county_{scrape_timestamp}.txt\", sep='|', index=False)\n",
    "\n",
    "    # no need to backup virginia page\n",
    "#     with open(f\"{config['data_source_backup_folder']}/{state}_county_{scrape_timestamp}.html\", 'w') as f:\n",
    "#         f.write(driver.page_source)"
   ]
  },
  {
   "cell_type": "code",
   "execution_count": null,
   "metadata": {},
   "outputs": [],
   "source": [
    "def run():\n",
    "    df = fetch()\n",
    "    save(df)"
   ]
  },
  {
   "cell_type": "code",
   "execution_count": null,
   "metadata": {},
   "outputs": [],
   "source": []
  }
 ],
 "metadata": {
  "kernelspec": {
   "display_name": "Python 3",
   "language": "python",
   "name": "python3"
  },
  "language_info": {
   "codemirror_mode": {
    "name": "ipython",
    "version": 3
   },
   "file_extension": ".py",
   "mimetype": "text/x-python",
   "name": "python",
   "nbconvert_exporter": "python",
   "pygments_lexer": "ipython3",
   "version": "3.7.2"
  }
 },
 "nbformat": 4,
 "nbformat_minor": 2
}
