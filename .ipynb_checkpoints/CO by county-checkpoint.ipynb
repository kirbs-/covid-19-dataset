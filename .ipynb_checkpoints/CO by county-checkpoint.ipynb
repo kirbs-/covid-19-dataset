{
 "cells": [
  {
   "cell_type": "markdown",
   "metadata": {},
   "source": [
    "Colorado updates their data daily at 4pm MDT for cases through 4pm prior day."
   ]
  },
  {
   "cell_type": "code",
   "execution_count": 26,
   "metadata": {},
   "outputs": [],
   "source": [
    "from selenium import webdriver\n",
    "import time\n",
    "import pandas as pd\n",
    "import pendulum\n",
    "import re\n",
    "import yaml\n",
    "import requests\n",
    "# from selenium.webdriver.chrome.options import Options\n",
    "# chrome_options = Options()\n",
    "#chrome_options.add_argument(\"--disable-extensions\")\n",
    "#chrome_options.add_argument(\"--disable-gpu\")\n",
    "#chrome_options.add_argument(\"--no-sandbox) # linux only\n",
    "# chrome_options.add_argument(\"--start-maximized\")\n",
    "# chrome_options.add_argument(\"--headless\")\n",
    "# chrome_options.add_argument(\"user-agent=[Mozilla/5.0 (Macintosh; Intel Mac OS X 10.14; rv:73.0) Gecko/20100101 Firefox/73.0]\")"
   ]
  },
  {
   "cell_type": "code",
   "execution_count": null,
   "metadata": {},
   "outputs": [],
   "source": [
    "with open('config.yaml', 'r') as f:\n",
    "    config = yaml.safe_load(f.read())"
   ]
  },
  {
   "cell_type": "code",
   "execution_count": null,
   "metadata": {},
   "outputs": [],
   "source": [
    "state = 'CO'"
   ]
  },
  {
   "cell_type": "code",
   "execution_count": 8,
   "metadata": {},
   "outputs": [],
   "source": [
    "scrape_timestamp = pendulum.now().strftime('%Y%m%d%H%M%S')"
   ]
  },
  {
   "cell_type": "code",
   "execution_count": 5,
   "metadata": {},
   "outputs": [],
   "source": [
    "# Colorado exposes their data as ArcGIS geojson via an API\n",
    "url = 'https://opendata.arcgis.com/datasets/fbae539746324ca69ff34f086286845b_0.geojson'"
   ]
  },
  {
   "cell_type": "code",
   "execution_count": 2,
   "metadata": {},
   "outputs": [],
   "source": [
    "def fetch():\n",
    "#     driver = webdriver.Chrome('../20190611 - Parts recommendation/chromedriver', options=chrome_options)\n",
    "\n",
    "#     driver.get(url)\n",
    "#     time.sleep(5)\n",
    "\n",
    "#     # class topBoxH1Text is used in the summary box.\n",
    "#     data_elements = driver.find_elements_by_class_name('topBoxH1Text')\n",
    "\n",
    "#     datatbl = data_elements[1].text.split('\\n')\n",
    "\n",
    "#     data = [re.search('^(.*) - (\\d*)', row) for row in datatbl]\n",
    "\n",
    "#     data = [row.groups() for row in data if row]\n",
    "#     page_source = driver.page_source\n",
    "#     driver.close()\n",
    "    \n",
    "    # Colorado exposes their data as ArcGIS geojson via an API\n",
    "    res = requests.get(url).json()\n",
    "    data = [ele.pop('properties', None) for ele in res['features']]\n",
    "    df = pd.DataFrame.from_dict(data)\n",
    "    \n",
    "    # adding standard column names\n",
    "    df['county'] = df.COUNTY\n",
    "    df['positive_cases'] = df.County_Pos_Cases\n",
    "    \n",
    "    return df, str(res)"
   ]
  },
  {
   "cell_type": "code",
   "execution_count": 1,
   "metadata": {},
   "outputs": [],
   "source": [
    "def save(df, source):\n",
    "    df.to_csv(f\"{config['data_folder']}/{state}_county_{scrape_timestamp}.txt\", sep='|', index=False)\n",
    "\n",
    "    with open(f\"{config['data_source_backup_folder']}/{state}_county_{scrape_timestamp}.json\", 'w') as f:\n",
    "        f.write(source)"
   ]
  },
  {
   "cell_type": "code",
   "execution_count": null,
   "metadata": {},
   "outputs": [],
   "source": [
    "def run():\n",
    "    df, source = fetch()\n",
    "    save(df, source)"
   ]
  }
 ],
 "metadata": {
  "kernelspec": {
   "display_name": "Python 3",
   "language": "python",
   "name": "python3"
  },
  "language_info": {
   "codemirror_mode": {
    "name": "ipython",
    "version": 3
   },
   "file_extension": ".py",
   "mimetype": "text/x-python",
   "name": "python",
   "nbconvert_exporter": "python",
   "pygments_lexer": "ipython3",
   "version": "3.7.2"
  }
 },
 "nbformat": 4,
 "nbformat_minor": 2
}
